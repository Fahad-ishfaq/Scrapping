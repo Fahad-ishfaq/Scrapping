{
 "cells": [
  {
   "cell_type": "code",
   "execution_count": 44,
   "metadata": {},
   "outputs": [
    {
     "name": "stderr",
     "output_type": "stream",
     "text": [
      "/tmp/ipykernel_30852/2099571694.py:11: DeprecationWarning: executable_path has been deprecated, please pass in a Service object\n",
      "  driver = webdriver.Chrome(\"/home/fahad/.cache/selenium/chromedriver/linux64/104.0.5112.79/chromedriver\")\n"
     ]
    }
   ],
   "source": [
    "from selenium import webdriver\n",
    "from selenium.webdriver.common.by import By\n",
    "from selenium.webdriver.support.wait import WebDriverWait\n",
    "from selenium.webdriver.support import expected_conditions as EC\n",
    "import time\n",
    "import urllib.request as urllib2\n",
    "import speech_recognition as sr\n",
    "from pydub import AudioSegment\n",
    "\n",
    "\n"
   ]
  },
  {
   "cell_type": "code",
   "execution_count": 79,
   "metadata": {},
   "outputs": [
    {
     "name": "stderr",
     "output_type": "stream",
     "text": [
      "/tmp/ipykernel_30852/975399718.py:2: DeprecationWarning: executable_path has been deprecated, please pass in a Service object\n",
      "  driver = webdriver.Chrome(\"/home/fahad/.cache/selenium/chromedriver/linux64/104.0.5112.79/chromedriver\")\n"
     ]
    },
    {
     "name": "stdout",
     "output_type": "stream",
     "text": [
      "casual pick up time\n",
      "captchaResponse:03ANYolqv9kJaI1giJ9zTRhTd1XzidgnWSxl816965yzbZhcMD3SbdkQ4Pez7ekJA0hDwwPKhIqjg6HcWQ4_TRspLe1o22spNkox2OPctDB5RzPDMewawozfy0TDF67vd-PdmKB18P2VeKMOJs86QwUAjPsQ-wR8vVh5RVdO0EoCMlErz6yCk_9Jb0daDYWYkrzBSql7xIjXUxutwdWwiEILsxKwf3nDfkVnYXDIdmHqRSbWXRM_gSpczj9BZFkUyOT6GI1_XqlPGNXL6NfYRxLz-Y-rwJ7jKMvD_OexWsK-f29MWcc0uf_2LlWDdKsuGrhaTFH5AKlUFAyLunLdLBIF-07FvQve0W-J8OjsAqvAQd5LIpa4FNfrB37hJaXj-32j6rIhalxRfbaNfP7cKfCu6OJFRdWWIb7o08ZNnruIaw1i9Ml1i16pP_61CnH6ZBNwJ2o9K3cwNn2plUZdXmhUDL_UwVihALjTRc9aLe_g8L8DQHt92tMIvYwCf4qm-DCHHGp56icULsjdS2SMMoDy4AWo7R97S94t1CYQKFhHi89O-tUJmwoaI\n",
      "=====+++==================== Resolved ==================+++=====\n"
     ]
    }
   ],
   "source": [
    "url = 'https://demo.whoisfreaks.com/live'\n",
    "driver = webdriver.Chrome(\"/home/fahad/.cache/selenium/chromedriver/linux64/104.0.5112.79/chromedriver\")\n",
    "driver.get(url)\n",
    "\n",
    "# Click captcha\n",
    "time.sleep(2)\n",
    "driver.switch_to.frame(driver.find_element(By.XPATH, \"//*[@title='reCAPTCHA']\"))\n",
    "time.sleep(2)\n",
    "driver.find_element(By.XPATH, \"//*[@id='recaptcha-anchor']\").click()\n",
    "# Now shift to popup opened\n",
    "driver.switch_to.default_content()\n",
    "driver.switch_to.frame(driver.find_element(By.XPATH, \"//*[@title='recaptcha challenge expires in two minutes']\"))\n",
    "time.sleep(3)\n",
    "WebDriverWait(driver, 10).until(EC.element_to_be_clickable((By.ID, \"recaptcha-audio-button\"))).click()\n",
    "time.sleep(3)\n",
    "# driver.find_element(By.ID, \"recaptcha-audio-button\").click()\n",
    "\n",
    "driver.find_element(By.ID, \":2\").click()\n",
    "time.sleep(2)\n",
    "audioSource = driver.find_element(By.XPATH, \"//*[@title='Alternatively, download audio as MP3']\").get_attribute(\"href\")\n",
    "data = urllib2.urlretrieve(audioSource, \"audio/audio.mp3\") # it's a file like object and works just like a file\n",
    "\n",
    "filename = \"audio/audio.mp3\"\n",
    "\n",
    "dst = \"audio/test.wav\"\n",
    "\n",
    "# convert wav to mp3                                                            \n",
    "sound = AudioSegment.from_mp3(filename)\n",
    "sound.export(dst, format=\"wav\")\n",
    "\n",
    "r = sr.Recognizer()\n",
    "with sr.AudioFile(dst) as source:\n",
    "    # listen for the data (load audio to memory)\n",
    "    audio_data = r.record(source)\n",
    "    # recognize (convert from speech to text)\n",
    "    text = r.recognize_google(audio_data)\n",
    "    print(text)\n",
    "driver.find_element(By.ID, \"audio-response\").send_keys(text)\n",
    "time.sleep(3)\n",
    "driver.find_element(By.ID, \"recaptcha-verify-button\").click()\n",
    "time.sleep(3)\n",
    "driver.switch_to.default_content()\n",
    "captchaResponse = driver.find_element(By.ID, \"g-recaptcha-response\").get_attribute(\"value\")\n",
    "print(\"captchaResponse:\" + captchaResponse)\n",
    "if(captchaResponse!=\"\"):\n",
    "    print(\"=====+++==================== Resolved ==================+++=====\")\n",
    "    driver.quit()\n",
    "\n",
    "# rc-audiochallenge-error-message\n",
    "# Multiple correct solutions required - please solve more."
   ]
  }
 ],
 "metadata": {
  "kernelspec": {
   "display_name": "Python 3.10.4 ('env-scrapping': venv)",
   "language": "python",
   "name": "python3"
  },
  "language_info": {
   "codemirror_mode": {
    "name": "ipython",
    "version": 3
   },
   "file_extension": ".py",
   "mimetype": "text/x-python",
   "name": "python",
   "nbconvert_exporter": "python",
   "pygments_lexer": "ipython3",
   "version": "3.10.4"
  },
  "orig_nbformat": 4,
  "vscode": {
   "interpreter": {
    "hash": "4cc5aebb4da2289db42c090c68d10b492ec8ceb5fd44bbc3a035cc51d86e2149"
   }
  }
 },
 "nbformat": 4,
 "nbformat_minor": 2
}
